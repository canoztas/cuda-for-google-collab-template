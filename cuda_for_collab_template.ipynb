{
  "nbformat": 4,
  "nbformat_minor": 0,
  "metadata": {
    "colab": {
      "name": "cuda-for-collab-template.ipynb",
      "provenance": [],
      "collapsed_sections": [
        "UcSmJqAb03HJ",
        "MvtbfoM_0_e1"
      ],
      "toc_visible": true,
      "authorship_tag": "ABX9TyPEZFa3fOfYQT4dn4+OL7xr",
      "include_colab_link": true
    },
    "kernelspec": {
      "name": "python3",
      "display_name": "Python 3"
    },
    "language_info": {
      "name": "python"
    },
    "accelerator": "GPU"
  },
  "cells": [
    {
      "cell_type": "markdown",
      "metadata": {
        "id": "view-in-github",
        "colab_type": "text"
      },
      "source": [
        "<a href=\"https://colab.research.google.com/github/canoztas/cuda-for-google-collab-template/blob/main/cuda_for_collab_template.ipynb\" target=\"_parent\"><img src=\"https://colab.research.google.com/assets/colab-badge.svg\" alt=\"Open In Colab\"/></a>"
      ]
    },
    {
      "cell_type": "markdown",
      "metadata": {
        "id": "UcSmJqAb03HJ"
      },
      "source": [
        "# Remove all cuda"
      ]
    },
    {
      "cell_type": "code",
      "metadata": {
        "id": "JvGChqnuzLWr"
      },
      "source": [
        "!apt-get --purge remove cuda nvidia* libnvidia-*\n",
        "!dpkg -l | grep cuda- | awk '{print $2}' | xargs -n1 dpkg --purge\n",
        "!apt-get remove cuda-*\n",
        "!apt autoremove\n",
        "!apt-get update"
      ],
      "execution_count": null,
      "outputs": []
    },
    {
      "cell_type": "markdown",
      "metadata": {
        "id": "zZ412S8C1EWG"
      },
      "source": [
        "# Install cuda"
      ]
    },
    {
      "cell_type": "code",
      "metadata": {
        "id": "bgSNWtcw0qHX"
      },
      "source": [
        "!wget https://developer.nvidia.com/compute/cuda/9.2/Prod/local_installers/cuda-repo-ubuntu1604-9-2-local_9.2.88-1_amd64 -O cuda-repo-ubuntu1604-9-2-local_9.2.88-1_amd64.deb\n",
        "!dpkg -i cuda-repo-ubuntu1604-9-2-local_9.2.88-1_amd64.deb\n",
        "!apt-key add /var/cuda-repo-9-2-local/7fa2af80.pub\n",
        "!apt-get update\n",
        "!apt-get install cuda-9.2"
      ],
      "execution_count": null,
      "outputs": []
    },
    {
      "cell_type": "markdown",
      "metadata": {
        "id": "MvtbfoM_0_e1"
      },
      "source": [
        "# Show Gpu and CUDA Info"
      ]
    },
    {
      "cell_type": "code",
      "metadata": {
        "id": "CI-nXsC0zvQC"
      },
      "source": [
        "! nvidia-smi"
      ],
      "execution_count": null,
      "outputs": []
    },
    {
      "cell_type": "code",
      "metadata": {
        "id": "p4V9JhaE2oh6"
      },
      "source": [
        "!nvcc --version"
      ],
      "execution_count": null,
      "outputs": []
    },
    {
      "cell_type": "markdown",
      "metadata": {
        "id": "aeukmXU52tZ-"
      },
      "source": [
        "# Install extensions"
      ]
    },
    {
      "cell_type": "code",
      "metadata": {
        "id": "DJViIDe52t26"
      },
      "source": [
        "!pip install git+git://github.com/andreinechaev/nvcc4jupyter.git"
      ],
      "execution_count": null,
      "outputs": []
    },
    {
      "cell_type": "code",
      "metadata": {
        "id": "yEH0xKri2uKY"
      },
      "source": [
        "%load_ext nvcc_plugin"
      ],
      "execution_count": null,
      "outputs": []
    },
    {
      "cell_type": "markdown",
      "metadata": {
        "id": "mx1ic0tJ3Oyb"
      },
      "source": [
        "# We're ready!"
      ]
    },
    {
      "cell_type": "code",
      "metadata": {
        "colab": {
          "base_uri": "https://localhost:8080/"
        },
        "id": "K-aiS4sk0kT5",
        "outputId": "91507da7-616d-480d-f9e0-c5301cf49e71"
      },
      "source": [
        "%%cu\n",
        "#include <iostream>\n",
        "    int main()\n",
        "{\n",
        "    std::cout << \"Hello World\\n\";\n",
        "    return 0;\n",
        "}"
      ],
      "execution_count": 16,
      "outputs": [
        {
          "output_type": "stream",
          "name": "stdout",
          "text": [
            "Hello World\n",
            "\n"
          ]
        }
      ]
    }
  ]
}